{
 "cells": [
  {
   "cell_type": "code",
   "execution_count": 4,
   "id": "b5acce29-40a8-492d-8c56-f67241aed0ac",
   "metadata": {},
   "outputs": [
    {
     "data": {
      "text/markdown": [
       "#### <u>Readmission Model</u>"
      ],
      "text/plain": [
       "<IPython.core.display.Markdown object>"
      ]
     },
     "metadata": {},
     "output_type": "display_data"
    },
    {
     "data": {
      "application/vnd.jupyter.widget-view+json": {
       "model_id": "eb2087998e524658849a34833a162799",
       "version_major": 2,
       "version_minor": 0
      },
      "text/plain": [
       "interactive(children=(IntSlider(value=15, description='Readmission_Score'), Output()), _dom_classes=('widget-i…"
      ]
     },
     "metadata": {},
     "output_type": "display_data"
    },
    {
     "data": {
      "text/markdown": [
       "#### <u>Lace Score</u>"
      ],
      "text/plain": [
       "<IPython.core.display.Markdown object>"
      ]
     },
     "metadata": {},
     "output_type": "display_data"
    },
    {
     "data": {
      "application/vnd.jupyter.widget-view+json": {
       "model_id": "ac4dc393b2d44180992e0826428e5b2e",
       "version_major": 2,
       "version_minor": 0
      },
      "text/plain": [
       "interactive(children=(IntSlider(value=10, description='Lace'), Output()), _dom_classes=('widget-interact',))"
      ]
     },
     "metadata": {},
     "output_type": "display_data"
    }
   ],
   "source": [
    "import pandas as pd\n",
    "from IPython.display import Markdown as md\n",
    "from ipywidgets import interact\n",
    "\n",
    "\n",
    "cutoffs_df = pd.read_pickle(\"cutoffs_df.pkl\")\n",
    "cutoffs_lace = pd.read_pickle(\"cutoffs_lace.pkl\")\n",
    "\n",
    "\n",
    "display(md(\"#### <u>Readmission Model</u>\"))\n",
    "@interact(Readmission_Score=(0, 100))\n",
    "def double_number(Readmission_Score=15):\n",
    "    temp = cutoffs_df.iloc[Readmission_Score,1]\n",
    "    display(temp)\n",
    "    FPR = temp['Actual False'][0]/(temp['Actual False'][0]+temp['Actual False'][1])\n",
    "    TPR = temp['Actual True'][0]/(temp['Actual True'][0]+temp['Actual True'][1])\n",
    "    display(md(\"False Positive Rate: {}\".format(format(FPR,\".2f\"))))\n",
    "    display(md(\"True Positive Rate: {}\".format(format(TPR,\".2f\"))))\n",
    "    \n",
    "    \n",
    "display(md(\"#### <u>Lace Score</u>\"))\n",
    "@interact(Lace=(0, 100))\n",
    "def double_number(Lace=10):\n",
    "    temp1 = cutoffs_lace.iloc[Lace,1]\n",
    "    display(temp1)\n",
    "    FPR1 = temp1['Actual False'][0]/(temp1['Actual False'][0]+temp1['Actual False'][1])\n",
    "    TPR1 = temp1['Actual True'][0]/(temp1['Actual True'][0]+temp1['Actual True'][1])\n",
    "    display(md(\"False Positive Rate: {}\".format(format(FPR1,\".2f\"))))\n",
    "    display(md(\"True Positive Rate: {}\".format(format(TPR1,\".2f\"))))"
   ]
  }
 ],
 "metadata": {
  "kernelspec": {
   "display_name": "Python 3",
   "language": "python",
   "name": "python3"
  },
  "language_info": {
   "codemirror_mode": {
    "name": "ipython",
    "version": 3
   },
   "file_extension": ".py",
   "mimetype": "text/x-python",
   "name": "python",
   "nbconvert_exporter": "python",
   "pygments_lexer": "ipython3",
   "version": "3.8.8"
  }
 },
 "nbformat": 4,
 "nbformat_minor": 5
}
